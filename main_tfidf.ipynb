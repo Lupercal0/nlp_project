{
 "cells": [
  {
   "cell_type": "code",
   "execution_count": 114,
   "metadata": {},
   "outputs": [],
   "source": [
    "import json\n",
    "from sklearn.metrics.pairwise import cosine_similarity\n",
    "from sklearn.feature_extraction.text import TfidfVectorizer\n",
    "import operator\n",
    "from statistics import mean\n",
    "from collections import Counter\n"
   ]
  },
  {
   "cell_type": "code",
   "execution_count": 100,
   "metadata": {},
   "outputs": [],
   "source": [
    "\n",
    "with open('../project-data/train-claims.json', 'r') as input_file:\n",
    "    train_claim_data = json.load(input_file)\n",
    "\n",
    "# Read in development data (claim)\n",
    "with open('../project-data/dev-claims.json', 'r') as input_file:\n",
    "    dev_claim_data = json.load(input_file)\n",
    "\n",
    "# Read in test data (claim)\n",
    "with open('../project-data/test-claims-unlabelled.json', 'r') as input_file:\n",
    "    test_claim_data = json.load(input_file)\n",
    "\n",
    "# Read in evidence data\n",
    "with open('../project-data/evidence.json', 'r') as input_file:\n",
    "    evi_data = json.load(input_file)\n",
    "    \n"
   ]
  },
  {
   "cell_type": "code",
   "execution_count": 121,
   "metadata": {},
   "outputs": [
    {
     "name": "stdout",
     "output_type": "stream",
     "text": [
      "claim count:  1228\n",
      "max claim length:  332\n",
      "min claim length:  26\n",
      "mean claim length:  122.95521172638436\n",
      "max evidence count:  5\n",
      "min evidence count:  1\n",
      "mean evidence count:  3.3566775244299674\n",
      "max evidence length:  1979\n",
      "min evidence length:  13\n",
      "mean evidence length:  173.5\n",
      "Counter({'SUPPORTS': 519, 'NOT_ENOUGH_INFO': 386, 'REFUTES': 199, 'DISPUTED': 124})\n"
     ]
    }
   ],
   "source": [
    "#EDA\n",
    "\n",
    "\n",
    "\n",
    "\n",
    "claim_count = 0\n",
    "claim_length = []\n",
    "evidence_count = []\n",
    "evidence_length = []\n",
    "labels = []\n",
    "\n",
    "for key,value in train_claim_data.items():\n",
    "    claim_count+=1\n",
    "    claim_length.append(len(value[\"claim_text\"]))\n",
    "    evidence_count.append(len(value[\"evidences\"]))\n",
    "    evidence_length += [len(evi_data[x]) for x in value[\"evidences\"]]\n",
    "    labels.append(value[\"claim_label\"])\n",
    "    \n",
    "print(\"claim count: \",claim_count)\n",
    "print(\"max claim length: \",max(claim_length))\n",
    "print(\"min claim length: \",min(claim_length))\n",
    "print(\"mean claim length: \",mean(claim_length))\n",
    "print(\"max evidence count: \",max(evidence_count))\n",
    "print(\"min evidence count: \",min(evidence_count))\n",
    "print(\"mean evidence count: \",mean(evidence_count))\n",
    "print(\"max evidence length: \",max(evidence_length))\n",
    "print(\"min evidence length: \",min(evidence_length))\n",
    "print(\"mean evidence length: \",mean(evidence_length))\n",
    "print(Counter(labels))"
   ]
  },
  {
   "cell_type": "code",
   "execution_count": 120,
   "metadata": {},
   "outputs": [
    {
     "name": "stdout",
     "output_type": "stream",
     "text": [
      "Dev evi inside train evi 163\n",
      "Dev evi outside train evi 328\n"
     ]
    }
   ],
   "source": [
    "inside = 0\n",
    "outside = 0\n",
    "\n",
    "train_evi_id = []\n",
    "for claim_id,claim_value in train_claim_data.items():\n",
    "    train_evi_id=train_evi_id+claim_value['evidences']\n",
    "\n",
    "for claim_id,claim_value in dev_claim_data.items():\n",
    "    test_evi_id=claim_value['evidences']\n",
    "    for e in test_evi_id:\n",
    "        if e in train_evi_id:\n",
    "            inside +=1\n",
    "        else:\n",
    "            outside += 1\n",
    "print(\"Dev evi inside train evi\", inside)\n",
    "print(\"Dev evi outside train evi\", outside)"
   ]
  },
  {
   "cell_type": "code",
   "execution_count": 110,
   "metadata": {},
   "outputs": [],
   "source": [
    "full_evidence_id = list(evi_data.keys())\n",
    "full_evidence_text  = list(evi_data.values())\n",
    "train_claim_id = list(train_claim_data.keys())\n",
    "train_claim_text  = [ v[\"claim_text\"] for v in train_claim_data.values()]\n"
   ]
  },
  {
   "cell_type": "code",
   "execution_count": 111,
   "metadata": {},
   "outputs": [],
   "source": [
    "\n",
    "# dev remove stop word会好一点， test不remove反而好\n",
    "evidence_tfidf_vectorizer = TfidfVectorizer(stop_words=\"english\", use_idf=True)\n",
    "# claim_tfidf_vectorizer = TfidfVectorizer(stop_words=\"english\", use_idf=True)\n",
    "claim_tfidf_vectorizer = TfidfVectorizer(use_idf=True)\n",
    "\n",
    "\n",
    "# tfidf_vec = tfidf_vectorizer.fit(train_claim_text+train_evi_text)\n",
    "evidence_tfidf_vectorizer.fit(train_claim_text+full_evidence_text)\n",
    "train_claim_emb_list = claim_tfidf_vectorizer.fit_transform(train_claim_text)\n",
    "\n",
    "# train_evi_emb_list = tfidf_vec.transform(train_evi_text)\n",
    "\n",
    "full_evi_emb_list = evidence_tfidf_vectorizer.transform(full_evidence_text)\n",
    "\n"
   ]
  },
  {
   "cell_type": "code",
   "execution_count": 112,
   "metadata": {},
   "outputs": [],
   "source": [
    "\n",
    "evi_k=2\n",
    "claim_k=1\n",
    "\n",
    "with open('../project-data/dev-claims.json', 'r') as input_file:\n",
    "    test_out_temp = json.load(input_file)\n",
    "\n",
    "for claim_id,claim_value in test_out_temp.items():\n",
    "    # train_evi_id=train_evi_id+claim_value['evidences']\n",
    "    # train_claim_id.append(claim_id)\n",
    "    test_claim_emb = evidence_tfidf_vectorizer.transform([claim_value['claim_text']])\n",
    "    evi_sim_dict = {}\n",
    "    sim = cosine_similarity(test_claim_emb, full_evi_emb_list)[0]\n",
    "    \n",
    "    for i in range(len(sim)):\n",
    "        evi_sim_dict[full_evidence_id[i]] = sim[i]\n",
    "    \n",
    "    s_sim = [(k, v) for k, v in sorted(evi_sim_dict.items(), key=lambda item: item[1],reverse=True)][:evi_k]\n",
    "    sel_sim = [k for k in s_sim]\n",
    "    test_out_temp[claim_id][\"evidences\"] = sel_sim\n",
    "    \n",
    "    test_claim_emb = claim_tfidf_vectorizer.transform([claim_value['claim_text']])\n",
    "\n",
    "    claim_sim_dict = {}\n",
    "    claim_sim = cosine_similarity(test_claim_emb, train_claim_emb_list)[0]\n",
    "    for i in range(len(claim_sim)):\n",
    "        claim_sim_dict[train_claim_id[i]] = claim_sim[i]\n",
    "    \n",
    "    most_sim_claims = [(k, v) for k, v in sorted(claim_sim_dict.items(), key=lambda item: item[1],reverse=True)]\n",
    "    \n",
    "    most_sim_claim = max(most_sim_claims, key=operator.itemgetter(1))[0]\n",
    "    \n",
    "    test_out_temp[claim_id][\"claim_label\"] = train_claim_data[most_sim_claim][\"claim_label\"]\n",
    "\n",
    "\n",
    " \n",
    "# Writing to sample.json\n",
    "with open(\"../project-data/dev_predict.json\", \"w\") as outfile:\n",
    "    json.dump(test_out_temp, outfile)"
   ]
  },
  {
   "cell_type": "code",
   "execution_count": null,
   "metadata": {},
   "outputs": [],
   "source": []
  }
 ],
 "metadata": {
  "kernelspec": {
   "display_name": "nlp",
   "language": "python",
   "name": "python3"
  },
  "language_info": {
   "codemirror_mode": {
    "name": "ipython",
    "version": 3
   },
   "file_extension": ".py",
   "mimetype": "text/x-python",
   "name": "python",
   "nbconvert_exporter": "python",
   "pygments_lexer": "ipython3",
   "version": "3.9.16"
  },
  "orig_nbformat": 4
 },
 "nbformat": 4,
 "nbformat_minor": 2
}
