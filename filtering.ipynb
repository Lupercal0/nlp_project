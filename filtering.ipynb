{
 "cells": [
  {
   "cell_type": "code",
   "execution_count": 31,
   "metadata": {},
   "outputs": [],
   "source": [
    "import json\n",
    "import numpy as np\n",
    "import pandas as pd\n",
    "from nltk.corpus import stopwords\n",
    "from nltk.tokenize import word_tokenize\n",
    "from sklearn.metrics.pairwise import cosine_similarity\n",
    "from sklearn.feature_extraction.text import TfidfVectorizer"
   ]
  },
  {
   "cell_type": "code",
   "execution_count": 2,
   "metadata": {},
   "outputs": [],
   "source": [
    "#dataset read in \n",
    "with open('dataset/evidence.json') as json_file:\n",
    "    evidence = json.load(json_file)\n",
    "\n",
    "with open('dataset/dev-claims.json') as json_file:\n",
    "    dev_claim = json.load(json_file)\n",
    "\n",
    "with open('dataset/train-claims.json') as json_file:\n",
    "    train = json.load(json_file)\n",
    "\n",
    "with open('dataset/test-claims-unlabelled.json') as json_file:\n",
    "    test = json.load(json_file)"
   ]
  },
  {
   "cell_type": "code",
   "execution_count": 19,
   "metadata": {},
   "outputs": [],
   "source": [
    "stop_words = set(stopwords.words('english'))\n",
    "\n",
    "claim_evi = []\n",
    "for key in train.keys():\n",
    "    claim_evi += train[key]['evidences']\n",
    "evi_text = []\n",
    "for key in claim_evi:\n",
    "    for i in [w for w in word_tokenize(evidence[key]) if (not w.lower()  in stop_words) and w.isalpha()]:\n",
    "        evi_text.append(i)\n",
    "\n",
    "fre_dict = {}\n",
    "for word in evi_text:\n",
    "    if word in fre_dict.keys():\n",
    "        fre_dict[word] += 1\n",
    "    else:\n",
    "        fre_dict[word] = 1"
   ]
  },
  {
   "cell_type": "code",
   "execution_count": 27,
   "metadata": {},
   "outputs": [
    {
     "name": "stdout",
     "output_type": "stream",
     "text": [
      "['global', 'warming', 'climate', 'temperature', 'greenhouse', 'ice', 'change', 'sea', 'years', 'carbon', 'temperatures', 'emissions', 'surface', 'gases', 'Earth']\n"
     ]
    }
   ],
   "source": [
    "# find top frequent words, top is a hyper parameter that needs to be tunned\n",
    "top = 15\n",
    "top_tier = [k for k, v in sorted(fre_dict.items(), key=lambda item: item[1],reverse=True)][:top]\n",
    "print(top_tier)"
   ]
  },
  {
   "cell_type": "code",
   "execution_count": 28,
   "metadata": {},
   "outputs": [
    {
     "name": "stdout",
     "output_type": "stream",
     "text": [
      "46681\n"
     ]
    }
   ],
   "source": [
    "related_key = {}\n",
    "\n",
    "for key in evidence.keys():\n",
    "    words = [w for w in word_tokenize(evidence[key]) if (not w.lower() in stop_words) and w.isalpha()]\n",
    "    counter = 0\n",
    "    for word in top_tier:\n",
    "        if word in words:\n",
    "            counter += 1\n",
    "    if counter != 0:\n",
    "        related_key[key] = counter\n",
    "    \n",
    "\n",
    "#print(len(related_key.keys()))"
   ]
  },
  {
   "cell_type": "code",
   "execution_count": 41,
   "metadata": {},
   "outputs": [
    {
     "name": "stdout",
     "output_type": "stream",
     "text": [
      "  (0, 52828)\t0.05761776610002657\n",
      "  (0, 49697)\t0.21091246956592405\n",
      "  (0, 49153)\t0.23155809095866786\n",
      "  (0, 47304)\t0.1611285093627065\n",
      "  (0, 38028)\t0.07165028743637147\n",
      "  (0, 35323)\t0.23186320904761423\n",
      "  (0, 33217)\t0.2147851040127824\n",
      "  (0, 27889)\t0.10793540406729296\n",
      "  (0, 26759)\t0.07756307574220407\n",
      "  (0, 22194)\t0.22139292400277844\n",
      "  (0, 20035)\t0.20997642342199915\n",
      "  (0, 10858)\t0.46715928292403086\n",
      "  (0, 10855)\t0.434730663924897\n",
      "  (0, 7049)\t0.49958790192316466\n"
     ]
    }
   ],
   "source": [
    "text = [evidence[string] for string in related_key.keys()]\n",
    "for key in train.keys():\n",
    "    text.append(train[key]['claim_text'])\n",
    "#print(text)\n",
    "evi = []\n",
    "full_id = []\n",
    "for key in related_key.keys():\n",
    "    evi.append(evidence[key])\n",
    "    full_id.append(key)\n",
    "\n",
    "tfidf = TfidfVectorizer()\n",
    "tfidf.fit(text)\n",
    "full_evi =  tfidf.transform(evi)\n",
    "#print(full_evi[7])"
   ]
  },
  {
   "cell_type": "code",
   "execution_count": 42,
   "metadata": {},
   "outputs": [
    {
     "name": "stdout",
     "output_type": "stream",
     "text": [
      "{'claim-2967': ['evidence-19067', 'evidence-664218', 'evidence-1123443'], 'claim-979': ['evidence-268048', 'evidence-421870', 'evidence-452632'], 'claim-1609': ['evidence-171951', 'evidence-790637', 'evidence-766313'], 'claim-1020': ['evidence-757578', 'evidence-1084855', 'evidence-334451'], 'claim-2599': ['evidence-349241', 'evidence-915109', 'evidence-332154'], 'claim-2110': ['evidence-72690', 'evidence-516386', 'evidence-506409'], 'claim-1135': ['evidence-1183711', 'evidence-49223', 'evidence-167981'], 'claim-712': ['evidence-756019', 'evidence-309811', 'evidence-758556'], 'claim-1307': ['evidence-1183711', 'evidence-127311', 'evidence-1086865'], 'claim-148': ['evidence-37274', 'evidence-1091739', 'evidence-669368'], 'claim-903': ['evidence-295594', 'evidence-75555', 'evidence-90562'], 'claim-2942': ['evidence-746701', 'evidence-672028', 'evidence-1146102'], 'claim-1001': ['evidence-496586', 'evidence-277435', 'evidence-368618'], 'claim-1034': ['evidence-493616', 'evidence-345021', 'evidence-633299'], 'claim-1009': ['evidence-312934', 'evidence-611843', 'evidence-849393'], 'claim-770': ['evidence-898871', 'evidence-973577', 'evidence-985452'], 'claim-3074': ['evidence-526818', 'evidence-330493', 'evidence-598168'], 'claim-1761': ['evidence-889101', 'evidence-574477', 'evidence-777312'], 'claim-1475': ['evidence-916512', 'evidence-1051021', 'evidence-327396'], 'claim-477': ['evidence-425896', 'evidence-1108706', 'evidence-1128272'], 'claim-1378': ['evidence-529248', 'evidence-1186526', 'evidence-693807'], 'claim-503': ['evidence-7898', 'evidence-760329', 'evidence-765547'], 'claim-2751': ['evidence-5044', 'evidence-1118112', 'evidence-598243'], 'claim-2575': ['evidence-29065', 'evidence-696394', 'evidence-342232'], 'claim-30': ['evidence-780092', 'evidence-1073844', 'evidence-61446'], 'claim-2994': ['evidence-845045', 'evidence-899080', 'evidence-1016554'], 'claim-55': ['evidence-1082452', 'evidence-364928', 'evidence-650338'], 'claim-1271': ['evidence-1040612', 'evidence-676963', 'evidence-726093'], 'claim-2248': ['evidence-78884', 'evidence-177391', 'evidence-412505'], 'claim-532': ['evidence-330416', 'evidence-693067', 'evidence-299349'], 'claim-556': ['evidence-1088556', 'evidence-1196923', 'evidence-70141'], 'claim-1173': ['evidence-30405', 'evidence-658638', 'evidence-54484'], 'claim-539': ['evidence-953997', 'evidence-721647', 'evidence-527805'], 'claim-893': ['evidence-398722', 'evidence-1174422', 'evidence-866873'], 'claim-2857': ['evidence-972046', 'evidence-559368', 'evidence-694422'], 'claim-109': ['evidence-776091', 'evidence-384007', 'evidence-886636'], 'claim-2476': ['evidence-513478', 'evidence-1152953', 'evidence-1016008'], 'claim-3038': ['evidence-244355', 'evidence-12053', 'evidence-666859'], 'claim-3127': ['evidence-242556', 'evidence-11275', 'evidence-518454'], 'claim-474': ['evidence-360300', 'evidence-1172097', 'evidence-456685'], 'claim-2464': ['evidence-8189', 'evidence-526112', 'evidence-312377'], 'claim-2427': ['evidence-282938', 'evidence-814790', 'evidence-434720'], 'claim-2167': ['evidence-725190', 'evidence-947010', 'evidence-333343'], 'claim-812': ['evidence-250928', 'evidence-457809', 'evidence-821225'], 'claim-2590': ['evidence-1189189', 'evidence-284837', 'evidence-43485'], 'claim-404': ['evidence-973268', 'evidence-81551', 'evidence-30518'], 'claim-2977': ['evidence-427368', 'evidence-993385', 'evidence-1173070'], 'claim-2673': ['evidence-260744', 'evidence-915569', 'evidence-695091'], 'claim-2509': ['evidence-420577', 'evidence-936076', 'evidence-410946'], 'claim-138': ['evidence-638716', 'evidence-1010541', 'evidence-1133069'], 'claim-952': ['evidence-745093', 'evidence-966395', 'evidence-1000062'], 'claim-1691': ['evidence-435467', 'evidence-59240', 'evidence-119173'], 'claim-1741': ['evidence-1082770', 'evidence-760765', 'evidence-538011'], 'claim-1202': ['evidence-1005240', 'evidence-1124041', 'evidence-708206'], 'claim-1028': ['evidence-523214', 'evidence-442287', 'evidence-495434'], 'claim-28': ['evidence-106742', 'evidence-171206', 'evidence-964861'], 'claim-275': ['evidence-426976', 'evidence-432899', 'evidence-1154939'], 'claim-350': ['evidence-531567', 'evidence-182727', 'evidence-916975'], 'claim-2204': ['evidence-246003', 'evidence-587423', 'evidence-51798'], 'claim-1604': ['evidence-916975', 'evidence-1192751', 'evidence-1019897'], 'claim-3119': ['evidence-1098091', 'evidence-578065', 'evidence-985452'], 'claim-2150': ['evidence-878240', 'evidence-497934', 'evidence-1106138'], 'claim-21': ['evidence-520022', 'evidence-973550', 'evidence-563148'], 'claim-2013': ['evidence-759968', 'evidence-277972', 'evidence-1048369'], 'claim-467': ['evidence-1017204', 'evidence-105817', 'evidence-879989'], 'claim-2754': ['evidence-70051', 'evidence-894450', 'evidence-817833'], 'claim-2797': ['evidence-1159656', 'evidence-644779', 'evidence-318485'], 'claim-1771': ['evidence-740744', 'evidence-899905', 'evidence-877733'], 'claim-1908': ['evidence-1065464', 'evidence-590620', 'evidence-501765'], 'claim-2000': ['evidence-385259', 'evidence-926376', 'evidence-332299'], 'claim-2084': ['evidence-415989', 'evidence-280904', 'evidence-298026'], 'claim-1237': ['evidence-623810', 'evidence-1059229', 'evidence-373203'], 'claim-400': ['evidence-35625', 'evidence-725033', 'evidence-941321'], 'claim-1508': ['evidence-734872', 'evidence-1092088', 'evidence-365963'], 'claim-520': ['evidence-402802', 'evidence-851919', 'evidence-156413'], 'claim-3064': ['evidence-1088478', 'evidence-141025', 'evidence-1142444'], 'claim-1588': ['evidence-1030127', 'evidence-118577', 'evidence-817308'], 'claim-1488': ['evidence-765914', 'evidence-497197', 'evidence-258297'], 'claim-2733': ['evidence-901219', 'evidence-152168', 'evidence-1140942'], 'claim-809': ['evidence-1173516', 'evidence-1041564', 'evidence-753975'], 'claim-763': ['evidence-674731', 'evidence-1186170', 'evidence-77985'], 'claim-454': ['evidence-718136', 'evidence-22881', 'evidence-1015594'], 'claim-1853': ['evidence-653867', 'evidence-994064', 'evidence-1114671'], 'claim-2838': ['evidence-118071', 'evidence-542295', 'evidence-989389'], 'claim-2028': ['evidence-282904', 'evidence-1006823', 'evidence-72690'], 'claim-2434': ['evidence-874622', 'evidence-1091994', 'evidence-1192056'], 'claim-298': ['evidence-829219', 'evidence-877733', 'evidence-460169'], 'claim-338': ['evidence-1118366', 'evidence-972051', 'evidence-554535'], 'claim-1672': ['evidence-922640', 'evidence-975224', 'evidence-472882'], 'claim-2840': ['evidence-559069', 'evidence-192938', 'evidence-589546'], 'claim-1425': ['evidence-299349', 'evidence-217069', 'evidence-230516'], 'claim-1985': ['evidence-1017204', 'evidence-879989', 'evidence-507865'], 'claim-1156': ['evidence-230516', 'evidence-335620', 'evidence-506826'], 'claim-2870': ['evidence-356811', 'evidence-924217', 'evidence-602226'], 'claim-2898': ['evidence-755421', 'evidence-1099128', 'evidence-19306'], 'claim-2329': ['evidence-247680', 'evidence-866245', 'evidence-163343'], 'claim-1998': ['evidence-772442', 'evidence-585919', 'evidence-937837'], 'claim-2209': ['evidence-716813', 'evidence-600314', 'evidence-268662'], 'claim-1582': ['evidence-136458', 'evidence-51367', 'evidence-492038'], 'claim-3072': ['evidence-956940', 'evidence-223619', 'evidence-1196020'], 'claim-381': ['evidence-903568', 'evidence-1076694', 'evidence-960751'], 'claim-398': ['evidence-207759', 'evidence-1073336', 'evidence-94670'], 'claim-1560': ['evidence-1076062', 'evidence-1029591', 'evidence-732643'], 'claim-2246': ['evidence-59539', 'evidence-4655', 'evidence-448411'], 'claim-2774': ['evidence-972542', 'evidence-606800', 'evidence-949961'], 'claim-972': ['evidence-248795', 'evidence-967158', 'evidence-1026205'], 'claim-1531': ['evidence-1149957', 'evidence-235245', 'evidence-1036032'], 'claim-2592': ['evidence-1186526', 'evidence-750420', 'evidence-726093'], 'claim-2468': ['evidence-1142444', 'evidence-1174955', 'evidence-801082'], 'claim-463': ['evidence-247680', 'evidence-527805', 'evidence-436126'], 'claim-616': ['evidence-276438', 'evidence-915569', 'evidence-999756'], 'claim-1240': ['evidence-111881', 'evidence-957020', 'evidence-1107462'], 'claim-2951': ['evidence-621499', 'evidence-460571', 'evidence-1125693'], 'claim-1977': ['evidence-858461', 'evidence-118226', 'evidence-1202597'], 'claim-942': ['evidence-556196', 'evidence-776138', 'evidence-562986'], 'claim-2755': ['evidence-18613', 'evidence-425088', 'evidence-314637'], 'claim-1230': ['evidence-765300', 'evidence-202729', 'evidence-47891'], 'claim-3123': ['evidence-725977', 'evidence-790761', 'evidence-1059634'], 'claim-1684': ['evidence-256785', 'evidence-244062', 'evidence-107951'], 'claim-839': ['evidence-590962', 'evidence-1018053', 'evidence-898847'], 'claim-2423': ['evidence-192938', 'evidence-869213', 'evidence-564679'], 'claim-1243': ['evidence-111881', 'evidence-957020', 'evidence-1107462'], 'claim-494': ['evidence-222030', 'evidence-359461', 'evidence-94441'], 'claim-1458': ['evidence-996896', 'evidence-790769', 'evidence-341150'], 'claim-461': ['evidence-753705', 'evidence-583022', 'evidence-247902'], 'claim-1304': ['evidence-1145762', 'evidence-3767', 'evidence-608850'], 'claim-2564': ['evidence-1010647', 'evidence-56609', 'evidence-164772'], 'claim-2121': ['evidence-1020307', 'evidence-679873', 'evidence-597452'], 'claim-2631': ['evidence-401833', 'evidence-600294', 'evidence-877608'], 'claim-1141': ['evidence-716825', 'evidence-482300', 'evidence-1013303'], 'claim-2398': ['evidence-1114203', 'evidence-871201', 'evidence-499734'], 'claim-1048': ['evidence-735431', 'evidence-417353', 'evidence-141026'], 'claim-2783': ['evidence-954785', 'evidence-921553', 'evidence-1153524'], 'claim-1003': ['evidence-903119', 'evidence-181259', 'evidence-118577'], 'claim-1872': ['evidence-235172', 'evidence-580136', 'evidence-312748'], 'claim-1842': ['evidence-906931', 'evidence-752013', 'evidence-879915'], 'claim-2411': ['evidence-894450', 'evidence-222364', 'evidence-1111120'], 'claim-2428': ['evidence-641596', 'evidence-1072765', 'evidence-465870'], 'claim-1198': ['evidence-351939', 'evidence-796018', 'evidence-1065464'], 'claim-678': ['evidence-151413', 'evidence-645135', 'evidence-307181'], 'claim-2105': ['evidence-507810', 'evidence-114962', 'evidence-461930'], 'claim-648': ['evidence-1101645', 'evidence-72313', 'evidence-741774'], 'claim-822': ['evidence-1168469', 'evidence-187059', 'evidence-724005'], 'claim-2561': ['evidence-844147', 'evidence-1164059', 'evidence-44389'], 'claim-2219': ['evidence-78884', 'evidence-949961', 'evidence-323541'], 'claim-1343': ['evidence-619013', 'evidence-94670', 'evidence-463833'], 'claim-1351': ['evidence-1174955', 'evidence-494851', 'evidence-158510'], 'claim-2347': ['evidence-365478', 'evidence-702736', 'evidence-392964'], 'claim-293': ['evidence-616493', 'evidence-166252', 'evidence-406289'], 'claim-910': ['evidence-50005', 'evidence-605119', 'evidence-211569'], 'claim-2815': ['evidence-700183', 'evidence-141124', 'evidence-128422'], 'claim-1652': ['evidence-98914', 'evidence-386828', 'evidence-442810'], 'claim-1212': ['evidence-594802', 'evidence-86066', 'evidence-686179']}\n"
     ]
    }
   ],
   "source": [
    "#doing cosine similarity checking again with new dataset, ave is hyper-parameter\n",
    "\n",
    "test_claim = {}\n",
    "ave = 3\n",
    "\n",
    "for key in test.keys():\n",
    "    claim = test[key]['claim_text']\n",
    "    v_claim = tfidf.transform([claim])\n",
    "    similarity = cosine_similarity(v_claim, full_evi)[0]\n",
    "    evi_dict = {}\n",
    "    for i in range(len(similarity)):\n",
    "        evi_dict[full_id[i]] = similarity[i]\n",
    "    \n",
    "     \n",
    "    s_sim = [(k, v) for k, v in sorted(evi_dict.items(), key=lambda item: item[1],reverse=True)][:ave]\n",
    "    test_claim[key] = [k for k,v in s_sim]\n",
    "\n",
    "print(test_claim)"
   ]
  },
  {
   "cell_type": "code",
   "execution_count": null,
   "metadata": {},
   "outputs": [],
   "source": [
    "out = {}\n",
    "for key in test_claim.keys():\n",
    "    out[key] = {}\n",
    "    out[key][\"claim_text\"] = test[key][\"claim_text\"]\n",
    "    out[key]['claim_label'] = []\n",
    "    out[key]['evidences'] = test_claim[key]\n",
    "\n",
    "\n",
    "file_path = 'evi_f.json'\n",
    "with open(file_path, 'w') as json_file:\n",
    "    json.dump(out, json_file)"
   ]
  }
 ],
 "metadata": {
  "kernelspec": {
   "display_name": "sklearn-env",
   "language": "python",
   "name": "python3"
  },
  "language_info": {
   "codemirror_mode": {
    "name": "ipython",
    "version": 3
   },
   "file_extension": ".py",
   "mimetype": "text/x-python",
   "name": "python",
   "nbconvert_exporter": "python",
   "pygments_lexer": "ipython3",
   "version": "3.8.16"
  },
  "orig_nbformat": 4
 },
 "nbformat": 4,
 "nbformat_minor": 2
}
